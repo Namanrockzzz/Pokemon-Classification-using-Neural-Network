{
 "cells": [
  {
   "cell_type": "code",
   "execution_count": 1,
   "id": "killing-narrative",
   "metadata": {},
   "outputs": [],
   "source": [
    "%config IPCompleter.use_jedi = False"
   ]
  },
  {
   "cell_type": "markdown",
   "id": "motivated-navigator",
   "metadata": {},
   "source": [
    "### Processing Pokemon Dataset from Kaggle"
   ]
  },
  {
   "cell_type": "markdown",
   "id": "junior-black",
   "metadata": {},
   "source": [
    "**Dataset link** - https://www.kaggle.com/thedagger/pokemon-generation-one\n",
    "<br>This dataset has multiple images of each pokemon"
   ]
  },
  {
   "cell_type": "code",
   "execution_count": 2,
   "id": "controlled-sally",
   "metadata": {},
   "outputs": [],
   "source": [
    "import os\n",
    "from pathlib import Path\n",
    "from keras.preprocessing import image\n",
    "import matplotlib.pyplot as plt"
   ]
  },
  {
   "cell_type": "code",
   "execution_count": 3,
   "id": "controversial-resource",
   "metadata": {},
   "outputs": [
    {
     "name": "stdout",
     "output_type": "stream",
     "text": [
      "Dataset\\Bulbasaur\n",
      "176\n",
      "Dataset\\Meowth\n",
      "70\n",
      "Dataset\\Pikachu\n",
      "199\n"
     ]
    }
   ],
   "source": [
    "p = Path(\"./Dataset/\")\n",
    "dirs = p.glob('*')\n",
    "# for d in dirs:\n",
    "#     print(d)\n",
    "image_data = []\n",
    "labels = []\n",
    "\n",
    "#Optional\n",
    "image_paths = []\n",
    "\n",
    "label_dict = {\"Pikachu\":0, \"Bulbasaur\":1, \"Meowth\":2}\n",
    "label2pokemon = {0:\"Pikachu\", 1:\"Bulbasaur\", 2:\"Meowth\"}\n",
    "\n",
    "for folder_dir in dirs:\n",
    "    # print(str(folder_dir).split(\"\\\\\")[-1])\n",
    "    label = str(folder_dir).split(\"\\\\\")[-1]\n",
    "    cnt=0\n",
    "    print(folder_dir)\n",
    "    \n",
    "    #Iterate over folder_dir and pick all images of the pokemon\n",
    "    for img_path in folder_dir.glob(\"*.jpg\"):\n",
    "        img = image.load_img(img_path, target_size=(40,40))\n",
    "        img_array = image.img_to_array(img)\n",
    "        image_data.append(img_array)\n",
    "        labels.append(label_dict[label])\n",
    "        cnt += 1\n",
    "        \n",
    "    print(cnt)"
   ]
  },
  {
   "cell_type": "markdown",
   "id": "assured-appraisal",
   "metadata": {},
   "source": [
    "### Visualisation"
   ]
  },
  {
   "cell_type": "code",
   "execution_count": 4,
   "id": "armed-division",
   "metadata": {},
   "outputs": [],
   "source": [
    "import numpy as np"
   ]
  },
  {
   "cell_type": "code",
   "execution_count": 5,
   "id": "trying-timber",
   "metadata": {},
   "outputs": [
    {
     "name": "stdout",
     "output_type": "stream",
     "text": [
      "445\n",
      "445\n"
     ]
    }
   ],
   "source": [
    "print(len(image_data))\n",
    "print(len(labels))"
   ]
  },
  {
   "cell_type": "code",
   "execution_count": 6,
   "id": "australian-department",
   "metadata": {},
   "outputs": [],
   "source": [
    "\n",
    "# print(labels)"
   ]
  },
  {
   "cell_type": "code",
   "execution_count": 7,
   "id": "earned-hindu",
   "metadata": {},
   "outputs": [
    {
     "name": "stdout",
     "output_type": "stream",
     "text": [
      "(445, 40, 40, 3)\n",
      "(445,)\n"
     ]
    }
   ],
   "source": [
    "X = np.array(image_data)\n",
    "Y = np.array(labels)\n",
    "\n",
    "print(X.shape)\n",
    "print(Y.shape)"
   ]
  },
  {
   "cell_type": "code",
   "execution_count": 8,
   "id": "certain-glory",
   "metadata": {},
   "outputs": [],
   "source": [
    "import random\n",
    "random.seed(10)"
   ]
  },
  {
   "cell_type": "code",
   "execution_count": 9,
   "id": "cathedral-hollow",
   "metadata": {},
   "outputs": [],
   "source": [
    "#@ Shuffle the data\n",
    "from sklearn.utils import shuffle\n",
    "X,Y = shuffle(X,Y,random_state=2)\n",
    "\n",
    "# Normalisation\n",
    "X = X/255.0"
   ]
  },
  {
   "cell_type": "code",
   "execution_count": 10,
   "id": "guided-donna",
   "metadata": {},
   "outputs": [
    {
     "data": {
      "text/plain": [
       "(40, 40, 3)"
      ]
     },
     "execution_count": 10,
     "metadata": {},
     "output_type": "execute_result"
    }
   ],
   "source": [
    "X[0].shape"
   ]
  },
  {
   "cell_type": "code",
   "execution_count": 11,
   "id": "genetic-brief",
   "metadata": {},
   "outputs": [],
   "source": [
    "# Draw some pokemons\n",
    "def drawImg(img, label):\n",
    "    plt.title(label2pokemon[label])\n",
    "    plt.imshow(img)\n",
    "    plt.style.use(\"seaborn\")\n",
    "    plt.axis(\"off\")\n",
    "    plt.show()"
   ]
  },
  {
   "cell_type": "code",
   "execution_count": 12,
   "id": "entitled-volume",
   "metadata": {},
   "outputs": [
    {
     "data": {
      "image/png": "[encoded data removed]",
      "text/plain": [
       "<Figure size 432x288 with 1 Axes>"
      ]
     },
     "metadata": {
      "needs_background": "light"
     },
     "output_type": "display_data"
    },
    {
     "data": {
      "image/png": "[encoded data removed]",
      "text/plain": [
       "<Figure size 576x396 with 1 Axes>"
      ]
     },
     "metadata": {},
     "output_type": "display_data"
    },
    {
     "data": {
      "image/png": "[encoded data removed]",
      "text/plain": [
       "<Figure size 576x396 with 1 Axes>"
      ]
     },
     "metadata": {},
     "output_type": "display_data"
    },
    {
     "data": {
      "image/png": "[encoded data removed]",
      "text/plain": [
       "<Figure size 576x396 with 1 Axes>"
      ]
     },
     "metadata": {},
     "output_type": "display_data"
    },
    {
     "data": {
      "image/png": "[encoded data removed]",
      "text/plain": [
       "<Figure size 576x396 with 1 Axes>"
      ]
     },
     "metadata": {},
     "output_type": "display_data"
    },
    {
     "data": {
      "image/png": "[encoded data removed]",
      "text/plain": [
       "<Figure size 576x396 with 1 Axes>"
      ]
     },
     "metadata": {},
     "output_type": "display_data"
    },
    {
     "data": {
      "image/png": "[encoded data removed]",
      "text/plain": [
       "<Figure size 576x396 with 1 Axes>"
      ]
     },
     "metadata": {},
     "output_type": "display_data"
    },
    {
     "data": {
      "image/png": "[encoded data removed]",
      "text/plain": [
       "<Figure size 576x396 with 1 Axes>"
      ]
     },
     "metadata": {},
     "output_type": "display_data"
    },
    {
     "data": {
      "image/png": "[encoded data removed]",
      "text/plain": [
       "<Figure size 576x396 with 1 Axes>"
      ]
     },
     "metadata": {},
     "output_type": "display_data"
    },
    {
     "data": {
      "image/png": "[encoded data removed]",
      "text/plain": [
       "<Figure size 576x396 with 1 Axes>"
      ]
     },
     "metadata": {},
     "output_type": "display_data"
    }
   ],
   "source": [
    "for i in range(10):\n",
    "    drawImg(X[i].reshape(40,40,3),Y[i])"
   ]
  },
  {
   "cell_type": "markdown",
   "id": "enhanced-modeling",
   "metadata": {},
   "source": [
    "### Split into train and test set"
   ]
  },
  {
   "cell_type": "code",
   "execution_count": 13,
   "id": "reasonable-toolbox",
   "metadata": {},
   "outputs": [
    {
     "name": "stdout",
     "output_type": "stream",
     "text": [
      "(356, 40, 40, 3) (356,)\n",
      "(89, 40, 40, 3) (89,)\n"
     ]
    }
   ],
   "source": [
    "split = int(X.shape[0]*0.8)\n",
    "\n",
    "X_ = np.array(X)\n",
    "Y_ = np.array(Y)\n",
    "\n",
    "# Training Set\n",
    "X = X_[:split,:]\n",
    "Y = Y_[:split]\n",
    "\n",
    "# Test Set\n",
    "XTest = X_[split:,:]\n",
    "YTest = Y_[split:]\n",
    "\n",
    "print(X.shape, Y.shape)\n",
    "print(XTest.shape, YTest.shape)"
   ]
  },
  {
   "cell_type": "markdown",
   "id": "worth-forge",
   "metadata": {},
   "source": [
    "### Neural Network implementation"
   ]
  },
  {
   "cell_type": "code",
   "execution_count": 14,
   "id": "federal-reading",
   "metadata": {},
   "outputs": [],
   "source": [
    "class Neural_Network:\n",
    "    def __init__(self, input_size, layers, output_size):\n",
    "        np.random.seed(0)\n",
    "        \n",
    "        model = {} #dictionary\n",
    "        \n",
    "        # First Hidden Layer\n",
    "        model['W1'] = np.random.randn(input_size, layers[0])\n",
    "        model['b1'] = np.zeros((1,layers[0]))\n",
    "        \n",
    "        # Second Hidden Layer\n",
    "        model['W2'] = np.random.randn(layers[0], layers[1])\n",
    "        model['b2'] = np.zeros((1,layers[1]))\n",
    "        \n",
    "        # Output Layer\n",
    "        model['W3'] = np.random.randn(layers[1], output_size)\n",
    "        model['b3'] = np.zeros((1,output_size))\n",
    "        \n",
    "        self.model = model\n",
    "        \n",
    "    def forward(self, x):\n",
    "        \n",
    "        W1, W2, W3 = self.model['W1'], self.model['W2'], self.model['W3']\n",
    "        b1, b2, b3 = self.model['b1'], self.model['b2'], self.model['b3']\n",
    "        \n",
    "        z1 = np.dot(x,W1) + b1\n",
    "        a1 = np.tanh(z1) # This activation function provide values in range of (-1,1)\n",
    "        \n",
    "        z2 = np.dot(a1, W2) + b2\n",
    "        a2 = np.tanh(z2)\n",
    "        \n",
    "        z3 = np.dot(a2, W3) + b3\n",
    "        y_ = softmax(z3)\n",
    "        \n",
    "        self.activation_outputs = (a1,a2,y_)\n",
    "        return y_\n",
    "        \n",
    "    def backward(self, x , y, learning_rate=0.001):\n",
    "        \n",
    "        W1, W2, W3 = self.model['W1'], self.model['W2'], self.model['W3']\n",
    "        b1, b2, b3 = self.model['b1'], self.model['b2'], self.model['b3']\n",
    "        m = x.shape[0]\n",
    "        \n",
    "        a1,a2,y_ = self.activation_outputs\n",
    "        \n",
    "        delta3 = y_ - y\n",
    "        dw3 = np.dot(a2.T, delta3)\n",
    "        db3 = np.sum(delta3, axis=0)\n",
    "        \n",
    "        delta2 = (1-np.square(a2))*np.dot(delta3, W3.T)\n",
    "        # becuase derivative of tanh(x) = 1-(tanh(x))^2 and a2 = tanh\n",
    "        dw2 = np.dot(a1.T, delta2)\n",
    "        db2 = np.sum(delta2, axis=0)\n",
    "        \n",
    "        delta1 = (1-np.square(a1))*np.dot(delta2, W2.T)\n",
    "        dw1 = np.dot(x.T, delta1)\n",
    "        db1 = np.sum(delta1, axis=0)\n",
    "        \n",
    "        # Update model parameters using gradient descent\n",
    "        self.model[\"W1\"] -= learning_rate*dw1\n",
    "        self.model[\"b1\"] -= learning_rate*db1\n",
    "        \n",
    "        self.model[\"W2\"] -= learning_rate*dw2\n",
    "        self.model[\"b2\"] -= learning_rate*db2\n",
    "        \n",
    "        self.model[\"W3\"] -= learning_rate*dw3\n",
    "        self.model[\"b3\"] -= learning_rate*db3\n",
    "        \n",
    "        # :)\n",
    "        \n",
    "    def predict(self, x):\n",
    "        y_out = self.forward(x)\n",
    "        return np.argmax(y_out, axis=1)\n",
    "    \n",
    "    def summary(self):\n",
    "        W1, W2, W3 = self.model['W1'], self.model['W2'], self.model['W3']\n",
    "        a1, a2, y_ = self.activation_outputs\n",
    "        \n",
    "        print(\"W1 \", W1.shape)\n",
    "        print(\"A1 \", a1.shape)\n",
    "        \n",
    "        print(\"W2 \", W2.shape)\n",
    "        print(\"A2 \", a2.shape)\n",
    "        \n",
    "        print(\"W3 \", W3.shape)\n",
    "        print(\"Y_ \", y_.shape)\n",
    "        \n",
    "def softmax(a):\n",
    "    e_pa = np.exp(a) # Vector\n",
    "    ans = e_pa/np.sum(e_pa, axis=1, keepdims=True) \n",
    "    #Keep dims maintains the dimensions of the original array\n",
    "    return ans"
   ]
  },
  {
   "cell_type": "code",
   "execution_count": 15,
   "id": "vietnamese-domain",
   "metadata": {},
   "outputs": [],
   "source": [
    "def loss(y_oht, p):\n",
    "    # y_oht means one hot key encoded y_ and p means probabilities\n",
    "    l = -np.mean(y_oht*np.log(p))\n",
    "    return l\n",
    "\n",
    "def one_hot(y, depth):\n",
    "    m = y.shape[0]\n",
    "    y_oht = np.zeros((m,depth))\n",
    "    y_oht[np.arange(m),y] = 1\n",
    "    return y_oht"
   ]
  },
  {
   "cell_type": "code",
   "execution_count": 16,
   "id": "inclusive-greenhouse",
   "metadata": {},
   "outputs": [],
   "source": [
    "def train(X,Y,model,epochs,learning_rate,logs=True):\n",
    "    training_loss = []\n",
    "    \n",
    "    classes = len(np.unique(Y))\n",
    "    Y_OHT = one_hot(Y, classes)\n",
    "    \n",
    "    for ix in range(epochs):\n",
    "        Y_ = model.forward(X)\n",
    "        l = loss(Y_OHT, Y_)\n",
    "        training_loss.append(l)\n",
    "        model.backward(X,Y_OHT,learning_rate)\n",
    "        \n",
    "        if(logs):\n",
    "            print(\"Epoch %d Loss %.4f\"%(ix,l))\n",
    "    return training_loss"
   ]
  },
  {
   "cell_type": "markdown",
   "id": "incorrect-belgium",
   "metadata": {},
   "source": [
    "### Training the model"
   ]
  },
  {
   "cell_type": "code",
   "execution_count": 17,
   "id": "whole-tattoo",
   "metadata": {},
   "outputs": [
    {
     "name": "stdout",
     "output_type": "stream",
     "text": [
      "(356, 4800)\n",
      "(89, 4800)\n"
     ]
    }
   ],
   "source": [
    "X = X.reshape(X.shape[0],-1)\n",
    "print(X.shape)\n",
    "\n",
    "XTest = XTest.reshape(XTest.shape[0],-1)\n",
    "print(XTest.shape)"
   ]
  },
  {
   "cell_type": "code",
   "execution_count": 18,
   "id": "dying-slovakia",
   "metadata": {},
   "outputs": [],
   "source": [
    "model = Neural_Network(input_size=4800, layers=[100,50], output_size=3)"
   ]
  },
  {
   "cell_type": "code",
   "execution_count": 19,
   "id": "reflected-grammar",
   "metadata": {},
   "outputs": [
    {
     "name": "stdout",
     "output_type": "stream",
     "text": [
      "Epoch 0 Loss 3.1889\n",
      "Epoch 1 Loss 2.4373\n",
      "Epoch 2 Loss 1.7468\n",
      "Epoch 3 Loss 1.4452\n",
      "Epoch 4 Loss 1.2624\n",
      "Epoch 5 Loss 1.1441\n",
      "Epoch 6 Loss 1.1098\n",
      "Epoch 7 Loss 0.9812\n",
      "Epoch 8 Loss 0.9642\n",
      "Epoch 9 Loss 0.8528\n",
      "Epoch 10 Loss 0.8033\n",
      "Epoch 11 Loss 0.7348\n",
      "Epoch 12 Loss 0.7104\n",
      "Epoch 13 Loss 0.7228\n",
      "Epoch 14 Loss 0.6546\n",
      "Epoch 15 Loss 0.6419\n",
      "Epoch 16 Loss 0.5684\n",
      "Epoch 17 Loss 0.5362\n",
      "Epoch 18 Loss 0.5569\n",
      "Epoch 19 Loss 0.5118\n",
      "Epoch 20 Loss 0.4834\n",
      "Epoch 21 Loss 0.4100\n",
      "Epoch 22 Loss 0.4671\n",
      "Epoch 23 Loss 0.4647\n",
      "Epoch 24 Loss 0.4538\n",
      "Epoch 25 Loss 0.3971\n",
      "Epoch 26 Loss 0.3755\n",
      "Epoch 27 Loss 0.3605\n",
      "Epoch 28 Loss 0.3915\n",
      "Epoch 29 Loss 0.3463\n",
      "Epoch 30 Loss 0.3257\n",
      "Epoch 31 Loss 0.3022\n",
      "Epoch 32 Loss 0.3034\n",
      "Epoch 33 Loss 0.2924\n",
      "Epoch 34 Loss 0.2864\n",
      "Epoch 35 Loss 0.2956\n",
      "Epoch 36 Loss 0.2717\n",
      "Epoch 37 Loss 0.2503\n",
      "Epoch 38 Loss 0.2735\n",
      "Epoch 39 Loss 0.2478\n",
      "Epoch 40 Loss 0.2450\n",
      "Epoch 41 Loss 0.2631\n",
      "Epoch 42 Loss 0.2497\n",
      "Epoch 43 Loss 0.2256\n",
      "Epoch 44 Loss 0.2174\n",
      "Epoch 45 Loss 0.2303\n",
      "Epoch 46 Loss 0.2265\n",
      "Epoch 47 Loss 0.2058\n",
      "Epoch 48 Loss 0.2055\n",
      "Epoch 49 Loss 0.2051\n",
      "Epoch 50 Loss 0.1910\n",
      "Epoch 51 Loss 0.2301\n",
      "Epoch 52 Loss 0.2502\n",
      "Epoch 53 Loss 0.2476\n",
      "Epoch 54 Loss 0.2488\n",
      "Epoch 55 Loss 0.2434\n",
      "Epoch 56 Loss 0.2136\n",
      "Epoch 57 Loss 0.2372\n",
      "Epoch 58 Loss 0.2311\n",
      "Epoch 59 Loss 0.2068\n",
      "Epoch 60 Loss 0.1836\n",
      "Epoch 61 Loss 0.1774\n",
      "Epoch 62 Loss 0.1645\n",
      "Epoch 63 Loss 0.2005\n",
      "Epoch 64 Loss 0.1662\n",
      "Epoch 65 Loss 0.1525\n",
      "Epoch 66 Loss 0.1524\n",
      "Epoch 67 Loss 0.1552\n",
      "Epoch 68 Loss 0.1522\n",
      "Epoch 69 Loss 0.1468\n",
      "Epoch 70 Loss 0.1398\n",
      "Epoch 71 Loss 0.1695\n",
      "Epoch 72 Loss 0.1495\n",
      "Epoch 73 Loss 0.1779\n",
      "Epoch 74 Loss 0.1653\n",
      "Epoch 75 Loss 0.1587\n",
      "Epoch 76 Loss 0.1404\n",
      "Epoch 77 Loss 0.1395\n",
      "Epoch 78 Loss 0.1397\n",
      "Epoch 79 Loss 0.1302\n",
      "Epoch 80 Loss 0.1253\n",
      "Epoch 81 Loss 0.1437\n",
      "Epoch 82 Loss 0.1420\n",
      "Epoch 83 Loss 0.1332\n",
      "Epoch 84 Loss 0.1303\n",
      "Epoch 85 Loss 0.1226\n",
      "Epoch 86 Loss 0.1231\n",
      "Epoch 87 Loss 0.1198\n",
      "Epoch 88 Loss 0.1141\n",
      "Epoch 89 Loss 0.1151\n",
      "Epoch 90 Loss 0.1155\n",
      "Epoch 91 Loss 0.1135\n",
      "Epoch 92 Loss 0.1195\n",
      "Epoch 93 Loss 0.1152\n",
      "Epoch 94 Loss 0.1368\n",
      "Epoch 95 Loss 0.1469\n",
      "Epoch 96 Loss 0.1236\n",
      "Epoch 97 Loss 0.1255\n",
      "Epoch 98 Loss 0.1118\n",
      "Epoch 99 Loss 0.1129\n",
      "Epoch 100 Loss 0.1065\n",
      "Epoch 101 Loss 0.1055\n",
      "Epoch 102 Loss 0.1072\n",
      "Epoch 103 Loss 0.1154\n",
      "Epoch 104 Loss 0.1055\n",
      "Epoch 105 Loss 0.1037\n",
      "Epoch 106 Loss 0.1029\n",
      "Epoch 107 Loss 0.1096\n",
      "Epoch 108 Loss 0.1025\n",
      "Epoch 109 Loss 0.0998\n",
      "Epoch 110 Loss 0.0986\n",
      "Epoch 111 Loss 0.0977\n",
      "Epoch 112 Loss 0.0964\n",
      "Epoch 113 Loss 0.0951\n",
      "Epoch 114 Loss 0.0932\n",
      "Epoch 115 Loss 0.0980\n",
      "Epoch 116 Loss 0.1020\n",
      "Epoch 117 Loss 0.0958\n",
      "Epoch 118 Loss 0.0892\n",
      "Epoch 119 Loss 0.0879\n",
      "Epoch 120 Loss 0.0885\n",
      "Epoch 121 Loss 0.0921\n",
      "Epoch 122 Loss 0.0863\n",
      "Epoch 123 Loss 0.0843\n",
      "Epoch 124 Loss 0.0857\n",
      "Epoch 125 Loss 0.0954\n",
      "Epoch 126 Loss 0.0888\n",
      "Epoch 127 Loss 0.0871\n",
      "Epoch 128 Loss 0.0856\n",
      "Epoch 129 Loss 0.0847\n",
      "Epoch 130 Loss 0.0821\n",
      "Epoch 131 Loss 0.0813\n",
      "Epoch 132 Loss 0.0814\n",
      "Epoch 133 Loss 0.0792\n",
      "Epoch 134 Loss 0.0785\n",
      "Epoch 135 Loss 0.0789\n",
      "Epoch 136 Loss 0.0781\n",
      "Epoch 137 Loss 0.0777\n",
      "Epoch 138 Loss 0.0803\n",
      "Epoch 139 Loss 0.0800\n",
      "Epoch 140 Loss 0.0768\n",
      "Epoch 141 Loss 0.0754\n",
      "Epoch 142 Loss 0.0744\n",
      "Epoch 143 Loss 0.0752\n",
      "Epoch 144 Loss 0.0745\n",
      "Epoch 145 Loss 0.0738\n",
      "Epoch 146 Loss 0.0732\n",
      "Epoch 147 Loss 0.0724\n",
      "Epoch 148 Loss 0.0714\n",
      "Epoch 149 Loss 0.0716\n",
      "Epoch 150 Loss 0.0713\n",
      "Epoch 151 Loss 0.0704\n",
      "Epoch 152 Loss 0.0694\n",
      "Epoch 153 Loss 0.0693\n",
      "Epoch 154 Loss 0.0698\n",
      "Epoch 155 Loss 0.0691\n",
      "Epoch 156 Loss 0.0681\n",
      "Epoch 157 Loss 0.0679\n",
      "Epoch 158 Loss 0.0679\n",
      "Epoch 159 Loss 0.0673\n",
      "Epoch 160 Loss 0.0665\n",
      "Epoch 161 Loss 0.0664\n",
      "Epoch 162 Loss 0.0660\n",
      "Epoch 163 Loss 0.0666\n",
      "Epoch 164 Loss 0.0652\n",
      "Epoch 165 Loss 0.0647\n",
      "Epoch 166 Loss 0.0645\n",
      "Epoch 167 Loss 0.0640\n",
      "Epoch 168 Loss 0.0637\n",
      "Epoch 169 Loss 0.0633\n",
      "Epoch 170 Loss 0.0633\n",
      "Epoch 171 Loss 0.0625\n",
      "Epoch 172 Loss 0.0621\n",
      "Epoch 173 Loss 0.0618\n",
      "Epoch 174 Loss 0.0616\n",
      "Epoch 175 Loss 0.0621\n",
      "Epoch 176 Loss 0.0611\n",
      "Epoch 177 Loss 0.0605\n",
      "Epoch 178 Loss 0.0602\n",
      "Epoch 179 Loss 0.0599\n",
      "Epoch 180 Loss 0.0598\n",
      "Epoch 181 Loss 0.0588\n",
      "Epoch 182 Loss 0.0582\n",
      "Epoch 183 Loss 0.0579\n",
      "Epoch 184 Loss 0.0576\n",
      "Epoch 185 Loss 0.0573\n",
      "Epoch 186 Loss 0.0571\n",
      "Epoch 187 Loss 0.0570\n",
      "Epoch 188 Loss 0.0576\n",
      "Epoch 189 Loss 0.0569\n",
      "Epoch 190 Loss 0.0561\n",
      "Epoch 191 Loss 0.0559\n",
      "Epoch 192 Loss 0.0562\n",
      "Epoch 193 Loss 0.0554\n",
      "Epoch 194 Loss 0.0551\n",
      "Epoch 195 Loss 0.0552\n",
      "Epoch 196 Loss 0.0546\n",
      "Epoch 197 Loss 0.0543\n",
      "Epoch 198 Loss 0.0542\n",
      "Epoch 199 Loss 0.0540\n",
      "Epoch 200 Loss 0.0543\n",
      "Epoch 201 Loss 0.0535\n",
      "Epoch 202 Loss 0.0532\n",
      "Epoch 203 Loss 0.0533\n",
      "Epoch 204 Loss 0.0528\n",
      "Epoch 205 Loss 0.0525\n",
      "Epoch 206 Loss 0.0523\n",
      "Epoch 207 Loss 0.0521\n",
      "Epoch 208 Loss 0.0521\n",
      "Epoch 209 Loss 0.0518\n",
      "Epoch 210 Loss 0.0519\n",
      "Epoch 211 Loss 0.0513\n",
      "Epoch 212 Loss 0.0511\n",
      "Epoch 213 Loss 0.0511\n",
      "Epoch 214 Loss 0.0509\n",
      "Epoch 215 Loss 0.0512\n",
      "Epoch 216 Loss 0.0505\n",
      "Epoch 217 Loss 0.0502\n",
      "Epoch 218 Loss 0.0504\n",
      "Epoch 219 Loss 0.0498\n",
      "Epoch 220 Loss 0.0496\n",
      "Epoch 221 Loss 0.0498\n",
      "Epoch 222 Loss 0.0492\n",
      "Epoch 223 Loss 0.0490\n",
      "Epoch 224 Loss 0.0489\n",
      "Epoch 225 Loss 0.0488\n",
      "Epoch 226 Loss 0.0493\n",
      "Epoch 227 Loss 0.0485\n",
      "Epoch 228 Loss 0.0482\n",
      "Epoch 229 Loss 0.0481\n",
      "Epoch 230 Loss 0.0478\n",
      "Epoch 231 Loss 0.0480\n",
      "Epoch 232 Loss 0.0474\n",
      "Epoch 233 Loss 0.0473\n",
      "Epoch 234 Loss 0.0473\n",
      "Epoch 235 Loss 0.0469\n",
      "Epoch 236 Loss 0.0467\n",
      "Epoch 237 Loss 0.0467\n",
      "Epoch 238 Loss 0.0469\n",
      "Epoch 239 Loss 0.0463\n",
      "Epoch 240 Loss 0.0461\n",
      "Epoch 241 Loss 0.0464\n",
      "Epoch 242 Loss 0.0458\n",
      "Epoch 243 Loss 0.0456\n",
      "Epoch 244 Loss 0.0458\n",
      "Epoch 245 Loss 0.0452\n",
      "Epoch 246 Loss 0.0451\n",
      "Epoch 247 Loss 0.0453\n",
      "Epoch 248 Loss 0.0447\n",
      "Epoch 249 Loss 0.0446\n",
      "Epoch 250 Loss 0.0447\n",
      "Epoch 251 Loss 0.0442\n",
      "Epoch 252 Loss 0.0440\n",
      "Epoch 253 Loss 0.0442\n",
      "Epoch 254 Loss 0.0437\n",
      "Epoch 255 Loss 0.0435\n",
      "Epoch 256 Loss 0.0437\n",
      "Epoch 257 Loss 0.0431\n",
      "Epoch 258 Loss 0.0430\n",
      "Epoch 259 Loss 0.0431\n",
      "Epoch 260 Loss 0.0426\n",
      "Epoch 261 Loss 0.0424\n",
      "Epoch 262 Loss 0.0425\n",
      "Epoch 263 Loss 0.0420\n",
      "Epoch 264 Loss 0.0418\n",
      "Epoch 265 Loss 0.0419\n",
      "Epoch 266 Loss 0.0414\n",
      "Epoch 267 Loss 0.0412\n",
      "Epoch 268 Loss 0.0413\n",
      "Epoch 269 Loss 0.0407\n",
      "Epoch 270 Loss 0.0405\n",
      "Epoch 271 Loss 0.0406\n",
      "Epoch 272 Loss 0.0401\n",
      "Epoch 273 Loss 0.0398\n",
      "Epoch 274 Loss 0.0399\n",
      "Epoch 275 Loss 0.0393\n",
      "Epoch 276 Loss 0.0391\n",
      "Epoch 277 Loss 0.0392\n",
      "Epoch 278 Loss 0.0386\n",
      "Epoch 279 Loss 0.0384\n",
      "Epoch 280 Loss 0.0385\n",
      "Epoch 281 Loss 0.0380\n",
      "Epoch 282 Loss 0.0378\n",
      "Epoch 283 Loss 0.0379\n",
      "Epoch 284 Loss 0.0375\n",
      "Epoch 285 Loss 0.0373\n",
      "Epoch 286 Loss 0.0374\n",
      "Epoch 287 Loss 0.0370\n",
      "Epoch 288 Loss 0.0368\n",
      "Epoch 289 Loss 0.0370\n",
      "Epoch 290 Loss 0.0365\n",
      "Epoch 291 Loss 0.0364\n",
      "Epoch 292 Loss 0.0365\n",
      "Epoch 293 Loss 0.0361\n",
      "Epoch 294 Loss 0.0359\n",
      "Epoch 295 Loss 0.0361\n",
      "Epoch 296 Loss 0.0356\n",
      "Epoch 297 Loss 0.0355\n",
      "Epoch 298 Loss 0.0357\n",
      "Epoch 299 Loss 0.0352\n",
      "Epoch 300 Loss 0.0351\n",
      "Epoch 301 Loss 0.0353\n",
      "Epoch 302 Loss 0.0348\n",
      "Epoch 303 Loss 0.0348\n",
      "Epoch 304 Loss 0.0349\n",
      "Epoch 305 Loss 0.0345\n",
      "Epoch 306 Loss 0.0344\n",
      "Epoch 307 Loss 0.0345\n",
      "Epoch 308 Loss 0.0341\n",
      "Epoch 309 Loss 0.0340\n",
      "Epoch 310 Loss 0.0341\n",
      "Epoch 311 Loss 0.0337\n",
      "Epoch 312 Loss 0.0337\n",
      "Epoch 313 Loss 0.0337\n",
      "Epoch 314 Loss 0.0334\n",
      "Epoch 315 Loss 0.0333\n",
      "Epoch 316 Loss 0.0333\n",
      "Epoch 317 Loss 0.0334\n",
      "Epoch 318 Loss 0.0331\n",
      "Epoch 319 Loss 0.0329\n",
      "Epoch 320 Loss 0.0329\n",
      "Epoch 321 Loss 0.0328\n",
      "Epoch 322 Loss 0.0331\n",
      "Epoch 323 Loss 0.0326\n",
      "Epoch 324 Loss 0.0325\n",
      "Epoch 325 Loss 0.0324\n",
      "Epoch 326 Loss 0.0323\n",
      "Epoch 327 Loss 0.0324\n",
      "Epoch 328 Loss 0.0321\n",
      "Epoch 329 Loss 0.0319\n",
      "Epoch 330 Loss 0.0319\n",
      "Epoch 331 Loss 0.0318\n",
      "Epoch 332 Loss 0.0322\n",
      "Epoch 333 Loss 0.0317\n",
      "Epoch 334 Loss 0.0316\n",
      "Epoch 335 Loss 0.0316\n",
      "Epoch 336 Loss 0.0314\n",
      "Epoch 337 Loss 0.0312\n",
      "Epoch 338 Loss 0.0313\n",
      "Epoch 339 Loss 0.0310\n",
      "Epoch 340 Loss 0.0311\n",
      "Epoch 341 Loss 0.0309\n",
      "Epoch 342 Loss 0.0311\n",
      "Epoch 343 Loss 0.0307\n",
      "Epoch 344 Loss 0.0307\n",
      "Epoch 345 Loss 0.0308\n",
      "Epoch 346 Loss 0.0305\n",
      "Epoch 347 Loss 0.0304\n",
      "Epoch 348 Loss 0.0306\n",
      "Epoch 349 Loss 0.0301\n",
      "Epoch 350 Loss 0.0302\n",
      "Epoch 351 Loss 0.0302\n",
      "Epoch 352 Loss 0.0299\n",
      "Epoch 353 Loss 0.0298\n",
      "Epoch 354 Loss 0.0301\n",
      "Epoch 355 Loss 0.0296\n",
      "Epoch 356 Loss 0.0296\n",
      "Epoch 357 Loss 0.0297\n",
      "Epoch 358 Loss 0.0294\n",
      "Epoch 359 Loss 0.0293\n",
      "Epoch 360 Loss 0.0294\n",
      "Epoch 361 Loss 0.0291\n",
      "Epoch 362 Loss 0.0292\n",
      "Epoch 363 Loss 0.0290\n",
      "Epoch 364 Loss 0.0292\n",
      "Epoch 365 Loss 0.0288\n",
      "Epoch 366 Loss 0.0287\n",
      "Epoch 367 Loss 0.0286\n",
      "Epoch 368 Loss 0.0287\n",
      "Epoch 369 Loss 0.0288\n",
      "Epoch 370 Loss 0.0285\n",
      "Epoch 371 Loss 0.0283\n",
      "Epoch 372 Loss 0.0285\n",
      "Epoch 373 Loss 0.0281\n",
      "Epoch 374 Loss 0.0280\n",
      "Epoch 375 Loss 0.0278\n",
      "Epoch 376 Loss 0.0274\n",
      "Epoch 377 Loss 0.0273\n",
      "Epoch 378 Loss 0.0274\n",
      "Epoch 379 Loss 0.0283\n",
      "Epoch 380 Loss 0.0268\n",
      "Epoch 381 Loss 0.0265\n"
     ]
    },
    {
     "name": "stdout",
     "output_type": "stream",
     "text": [
      "Epoch 382 Loss 0.0266\n",
      "Epoch 383 Loss 0.0267\n",
      "Epoch 384 Loss 0.0266\n",
      "Epoch 385 Loss 0.0269\n",
      "Epoch 386 Loss 0.0263\n",
      "Epoch 387 Loss 0.0259\n",
      "Epoch 388 Loss 0.0257\n",
      "Epoch 389 Loss 0.0256\n",
      "Epoch 390 Loss 0.0257\n",
      "Epoch 391 Loss 0.0253\n",
      "Epoch 392 Loss 0.0253\n",
      "Epoch 393 Loss 0.0253\n",
      "Epoch 394 Loss 0.0251\n",
      "Epoch 395 Loss 0.0250\n",
      "Epoch 396 Loss 0.0249\n",
      "Epoch 397 Loss 0.0249\n",
      "Epoch 398 Loss 0.0248\n",
      "Epoch 399 Loss 0.0248\n",
      "Epoch 400 Loss 0.0247\n",
      "Epoch 401 Loss 0.0248\n",
      "Epoch 402 Loss 0.0257\n",
      "Epoch 403 Loss 0.0300\n",
      "Epoch 404 Loss 0.0247\n",
      "Epoch 405 Loss 0.0249\n",
      "Epoch 406 Loss 0.0251\n",
      "Epoch 407 Loss 0.0261\n",
      "Epoch 408 Loss 0.0240\n",
      "Epoch 409 Loss 0.0240\n",
      "Epoch 410 Loss 0.0241\n",
      "Epoch 411 Loss 0.0238\n",
      "Epoch 412 Loss 0.0237\n",
      "Epoch 413 Loss 0.0238\n",
      "Epoch 414 Loss 0.0235\n",
      "Epoch 415 Loss 0.0234\n",
      "Epoch 416 Loss 0.0234\n",
      "Epoch 417 Loss 0.0233\n",
      "Epoch 418 Loss 0.0234\n",
      "Epoch 419 Loss 0.0232\n",
      "Epoch 420 Loss 0.0231\n",
      "Epoch 421 Loss 0.0231\n",
      "Epoch 422 Loss 0.0233\n",
      "Epoch 423 Loss 0.0230\n",
      "Epoch 424 Loss 0.0229\n",
      "Epoch 425 Loss 0.0230\n",
      "Epoch 426 Loss 0.0227\n",
      "Epoch 427 Loss 0.0227\n",
      "Epoch 428 Loss 0.0227\n",
      "Epoch 429 Loss 0.0226\n",
      "Epoch 430 Loss 0.0228\n",
      "Epoch 431 Loss 0.0225\n",
      "Epoch 432 Loss 0.0224\n",
      "Epoch 433 Loss 0.0224\n",
      "Epoch 434 Loss 0.0223\n",
      "Epoch 435 Loss 0.0223\n",
      "Epoch 436 Loss 0.0222\n",
      "Epoch 437 Loss 0.0223\n",
      "Epoch 438 Loss 0.0220\n",
      "Epoch 439 Loss 0.0220\n",
      "Epoch 440 Loss 0.0220\n",
      "Epoch 441 Loss 0.0221\n",
      "Epoch 442 Loss 0.0219\n",
      "Epoch 443 Loss 0.0218\n",
      "Epoch 444 Loss 0.0219\n",
      "Epoch 445 Loss 0.0217\n",
      "Epoch 446 Loss 0.0217\n",
      "Epoch 447 Loss 0.0216\n",
      "Epoch 448 Loss 0.0217\n",
      "Epoch 449 Loss 0.0215\n",
      "Epoch 450 Loss 0.0214\n",
      "Epoch 451 Loss 0.0214\n",
      "Epoch 452 Loss 0.0214\n",
      "Epoch 453 Loss 0.0215\n",
      "Epoch 454 Loss 0.0212\n",
      "Epoch 455 Loss 0.0212\n",
      "Epoch 456 Loss 0.0211\n",
      "Epoch 457 Loss 0.0211\n",
      "Epoch 458 Loss 0.0211\n",
      "Epoch 459 Loss 0.0211\n",
      "Epoch 460 Loss 0.0212\n",
      "Epoch 461 Loss 0.0209\n",
      "Epoch 462 Loss 0.0209\n",
      "Epoch 463 Loss 0.0208\n",
      "Epoch 464 Loss 0.0208\n",
      "Epoch 465 Loss 0.0208\n",
      "Epoch 466 Loss 0.0207\n",
      "Epoch 467 Loss 0.0207\n",
      "Epoch 468 Loss 0.0206\n",
      "Epoch 469 Loss 0.0207\n",
      "Epoch 470 Loss 0.0205\n",
      "Epoch 471 Loss 0.0205\n",
      "Epoch 472 Loss 0.0205\n",
      "Epoch 473 Loss 0.0206\n",
      "Epoch 474 Loss 0.0204\n",
      "Epoch 475 Loss 0.0203\n",
      "Epoch 476 Loss 0.0203\n",
      "Epoch 477 Loss 0.0202\n",
      "Epoch 478 Loss 0.0203\n",
      "Epoch 479 Loss 0.0202\n",
      "Epoch 480 Loss 0.0202\n",
      "Epoch 481 Loss 0.0201\n",
      "Epoch 482 Loss 0.0201\n",
      "Epoch 483 Loss 0.0200\n",
      "Epoch 484 Loss 0.0200\n",
      "Epoch 485 Loss 0.0199\n",
      "Epoch 486 Loss 0.0200\n",
      "Epoch 487 Loss 0.0198\n",
      "Epoch 488 Loss 0.0198\n",
      "Epoch 489 Loss 0.0198\n",
      "Epoch 490 Loss 0.0197\n",
      "Epoch 491 Loss 0.0197\n",
      "Epoch 492 Loss 0.0198\n",
      "Epoch 493 Loss 0.0196\n",
      "Epoch 494 Loss 0.0196\n",
      "Epoch 495 Loss 0.0195\n",
      "Epoch 496 Loss 0.0195\n",
      "Epoch 497 Loss 0.0195\n",
      "Epoch 498 Loss 0.0195\n",
      "Epoch 499 Loss 0.0194\n"
     ]
    }
   ],
   "source": [
    "l = train(X,Y,model,500,0.0002)"
   ]
  },
  {
   "cell_type": "markdown",
   "id": "understanding-recall",
   "metadata": {},
   "source": [
    "### Visualising the loss with number of epoch"
   ]
  },
  {
   "cell_type": "code",
   "execution_count": 21,
   "id": "metallic-gender",
   "metadata": {},
   "outputs": [
    {
     "data": {
      "image/png": "[encoded data removed]",
      "text/plain": [
       "<Figure size 576x396 with 1 Axes>"
      ]
     },
     "metadata": {},
     "output_type": "display_data"
    }
   ],
   "source": [
    "import matplotlib.pyplot as plt\n",
    "plt.style.use(\"dark_background\")\n",
    "plt.title(\"Training Loss vs Epochs\")\n",
    "plt.plot(l)\n",
    "\n",
    "plt.show()"
   ]
  },
  {
   "cell_type": "markdown",
   "id": "waiting-maker",
   "metadata": {},
   "source": [
    "### Finding Accuracy"
   ]
  },
  {
   "cell_type": "code",
   "execution_count": 23,
   "id": "trying-rolling",
   "metadata": {},
   "outputs": [
    {
     "name": "stdout",
     "output_type": "stream",
     "text": [
      "Train acc 0.9888\n",
      "Test Acc 0.6742\n"
     ]
    }
   ],
   "source": [
    "def getAccuracy(X,Y,model):\n",
    "    outputs = model.predict(X)\n",
    "    acc = np.sum(outputs==Y)/Y.shape[0]\n",
    "    return acc\n",
    "\n",
    "print(\"Train acc %.4f\"%getAccuracy(X,Y,model))\n",
    "print(\"Test Acc %.4f\"%getAccuracy(XTest,YTest,model))"
   ]
  },
  {
   "cell_type": "markdown",
   "id": "hundred-surveillance",
   "metadata": {},
   "source": [
    "### Visualising the results"
   ]
  },
  {
   "cell_type": "code",
   "execution_count": 28,
   "id": "nuclear-taylor",
   "metadata": {},
   "outputs": [],
   "source": [
    "from sklearn.metrics import confusion_matrix"
   ]
  },
  {
   "cell_type": "code",
   "execution_count": 39,
   "id": "adapted-victoria",
   "metadata": {},
   "outputs": [],
   "source": [
    "from visualize import plot_confusion_matrix"
   ]
  },
  {
   "cell_type": "code",
   "execution_count": 40,
   "id": "associate-tourist",
   "metadata": {},
   "outputs": [
    {
     "name": "stdout",
     "output_type": "stream",
     "text": [
      "[[158   0   1]\n",
      " [  1 135   1]\n",
      " [  1   0  59]]\n"
     ]
    }
   ],
   "source": [
    "outputs = model.predict(X)\n",
    "cnf_matrix = confusion_matrix(outputs,Y)\n",
    "print(cnf_matrix)"
   ]
  },
  {
   "cell_type": "code",
   "execution_count": 43,
   "id": "sweet-homework",
   "metadata": {},
   "outputs": [
    {
     "name": "stdout",
     "output_type": "stream",
     "text": [
      "[[158   0   1]\n",
      " [  1 135   1]\n",
      " [  1   0  59]]\n",
      "Confusion matrix, without normalization\n"
     ]
    },
    {
     "data": {
      "image/png": "[encoded data removed]",
      "text/plain": [
       "<Figure size 576x396 with 2 Axes>"
      ]
     },
     "metadata": {},
     "output_type": "display_data"
    }
   ],
   "source": [
    "plot_confusion_matrix(cnf_matrix, classes=[\"Pikachu\", \"Bulbasaur\", \"Meowth\"])"
   ]
  },
  {
   "cell_type": "code",
   "execution_count": 24,
   "id": "established-example",
   "metadata": {},
   "outputs": [],
   "source": [
    "from sklearn.metrics import classification_report"
   ]
  },
  {
   "cell_type": "code",
   "execution_count": 27,
   "id": "elect-quantum",
   "metadata": {},
   "outputs": [
    {
     "name": "stdout",
     "output_type": "stream",
     "text": [
      "              precision    recall  f1-score   support\n",
      "\n",
      "           0       0.99      0.99      0.99       159\n",
      "           1       1.00      0.99      0.99       137\n",
      "           2       0.97      0.98      0.98        60\n",
      "\n",
      "    accuracy                           0.99       356\n",
      "   macro avg       0.98      0.99      0.99       356\n",
      "weighted avg       0.99      0.99      0.99       356\n",
      "\n"
     ]
    }
   ],
   "source": [
    "print(classification_report(outputs,Y))"
   ]
  },
  {
   "cell_type": "code",
   "execution_count": 45,
   "id": "limited-observer",
   "metadata": {},
   "outputs": [
    {
     "name": "stdout",
     "output_type": "stream",
     "text": [
      "              precision    recall  f1-score   support\n",
      "\n",
      "           0       0.72      0.67      0.69        42\n",
      "           1       0.68      0.82      0.75        34\n",
      "           2       0.44      0.31      0.36        13\n",
      "\n",
      "    accuracy                           0.67        89\n",
      "   macro avg       0.62      0.60      0.60        89\n",
      "weighted avg       0.66      0.67      0.66        89\n",
      "\n"
     ]
    }
   ],
   "source": [
    "test_outputs = model.predict(XTest)\n",
    "print(classification_report(test_outputs,YTest))"
   ]
  },
  {
   "cell_type": "code",
   "execution_count": 46,
   "id": "noble-threat",
   "metadata": {},
   "outputs": [
    {
     "name": "stdout",
     "output_type": "stream",
     "text": [
      "[[28 11  3]\n",
      " [ 4 28  2]\n",
      " [ 7  2  4]]\n",
      "Confusion matrix, without normalization\n"
     ]
    },
    {
     "data": {
      "image/png": "[encoded data removed]",
      "text/plain": [
       "<Figure size 576x396 with 2 Axes>"
      ]
     },
     "metadata": {},
     "output_type": "display_data"
    }
   ],
   "source": [
    "cnf_matrix = confusion_matrix(test_outputs,YTest)\n",
    "plot_confusion_matrix(cnf_matrix, classes=[\"Pikachu\", \"Bulbasaur\", \"Meowth\"])"
   ]
  },
  {
   "cell_type": "markdown",
   "id": "spatial-trial",
   "metadata": {},
   "source": [
    "### Visualize Misclassifications"
   ]
  },
  {
   "cell_type": "code",
   "execution_count": 47,
   "id": "chubby-insulin",
   "metadata": {},
   "outputs": [
    {
     "data": {
      "image/png": "[encoded data removed]",
      "text/plain": [
       "<Figure size 576x396 with 1 Axes>"
      ]
     },
     "metadata": {},
     "output_type": "display_data"
    },
    {
     "name": "stdout",
     "output_type": "stream",
     "text": [
      "Prediction 76 Meowth\n"
     ]
    },
    {
     "data": {
      "image/png": "[encoded data removed]",
      "text/plain": [
       "<Figure size 576x396 with 1 Axes>"
      ]
     },
     "metadata": {},
     "output_type": "display_data"
    },
    {
     "name": "stdout",
     "output_type": "stream",
     "text": [
      "Prediction 132 Bulbasaur\n"
     ]
    },
    {
     "data": {
      "image/png": "[encoded data removed]",
      "text/plain": [
       "<Figure size 576x396 with 1 Axes>"
      ]
     },
     "metadata": {},
     "output_type": "display_data"
    },
    {
     "name": "stdout",
     "output_type": "stream",
     "text": [
      "Prediction 161 Pikachu\n"
     ]
    },
    {
     "data": {
      "image/png": "[encoded data removed]",
      "text/plain": [
       "<Figure size 576x396 with 1 Axes>"
      ]
     },
     "metadata": {},
     "output_type": "display_data"
    },
    {
     "name": "stdout",
     "output_type": "stream",
     "text": [
      "Prediction 321 Bulbasaur\n"
     ]
    }
   ],
   "source": [
    "for i in range(Y.shape[0]):\n",
    "    if Y[i]!=outputs[i]:\n",
    "        drawImg(X[i].reshape(40,40,3),Y[i])\n",
    "        print(\"Prediction %d %s\"%(i,label2pokemon[outputs[i]]))"
   ]
  },
  {
   "cell_type": "code",
   "execution_count": null,
   "id": "addressed-anxiety",
   "metadata": {},
   "outputs": [],
   "source": []
  }
 ],
 "metadata": {
  "kernelspec": {
   "display_name": "Python 3.7 (tensorflow)",
   "language": "python",
   "name": "tensorflow"
  },
  "language_info": {
   "codemirror_mode": {
    "name": "ipython",
    "version": 3
   },
   "file_extension": ".py",
   "mimetype": "text/x-python",
   "name": "python",
   "nbconvert_exporter": "python",
   "pygments_lexer": "ipython3",
   "version": "3.8.5"
  }
 },
 "nbformat": 4,
 "nbformat_minor": 5
}
